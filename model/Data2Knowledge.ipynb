{
  "nbformat": 4,
  "nbformat_minor": 0,
  "metadata": {
    "colab": {
      "provenance": []
    },
    "kernelspec": {
      "name": "python3",
      "display_name": "Python 3"
    },
    "language_info": {
      "name": "python"
    }
  },
  "cells": [
    {
      "cell_type": "code",
      "execution_count": 372,
      "metadata": {
        "id": "aRHM2a0CRjPM"
      },
      "outputs": [],
      "source": [
        "import numpy as np\n",
        "import pandas as pd\n",
        "import csv\n",
        "import difflib\n",
        "from sklearn.feature_extraction.text import TfidfVectorizer\n",
        "from sklearn.metrics.pairwise import cosine_similarity"
      ]
    },
    {
      "cell_type": "code",
      "source": [
        "#col_names = ['id', 'quote', 'author', 'category']\n",
        "df = pd.read_csv('/content/format2.csv', index_col = False) "
      ],
      "metadata": {
        "id": "b7yy_0xmeUp1"
      },
      "execution_count": 373,
      "outputs": []
    },
    {
      "cell_type": "code",
      "source": [
        "df.sort_values(by = ['id'], inplace = True)"
      ],
      "metadata": {
        "id": "vdsiygE7meZx"
      },
      "execution_count": 374,
      "outputs": []
    },
    {
      "cell_type": "code",
      "source": [
        "df.columns"
      ],
      "metadata": {
        "colab": {
          "base_uri": "https://localhost:8080/"
        },
        "id": "2YDuZcLcuoMT",
        "outputId": "d2546dbc-4e6d-4402-f8e7-535a020fb49f"
      },
      "execution_count": 375,
      "outputs": [
        {
          "output_type": "execute_result",
          "data": {
            "text/plain": [
              "Index(['id', 'quote', 'author', 'category'], dtype='object')"
            ]
          },
          "metadata": {},
          "execution_count": 375
        }
      ]
    },
    {
      "cell_type": "code",
      "source": [
        "df = df.reset_index()"
      ],
      "metadata": {
        "id": "xbbzSYd8yM2W"
      },
      "execution_count": 376,
      "outputs": []
    },
    {
      "cell_type": "code",
      "source": [
        "df.drop(['index'],axis = 1, inplace = True)"
      ],
      "metadata": {
        "id": "F1DZlGztya2u"
      },
      "execution_count": 377,
      "outputs": []
    },
    {
      "cell_type": "code",
      "source": [
        "df.head(5)"
      ],
      "metadata": {
        "id": "a_4ECTnRehW9",
        "colab": {
          "base_uri": "https://localhost:8080/",
          "height": 206
        },
        "outputId": "3b165cea-38c8-495a-b36b-1b667da57ced"
      },
      "execution_count": 378,
      "outputs": [
        {
          "output_type": "execute_result",
          "data": {
            "text/plain": [
              "   id                                              quote         author  \\\n",
              "0   1  By definition all scientists are data scientis...  Monica Rogati   \n",
              "1   2  Possessed' is probably the right word. I often...  Jennifer Shin   \n",
              "2   3  I think of data science as more like a practic...      Bob Hayes   \n",
              "3   4  As a data scientist, I can predict what is lik...  Bill Schmarzo   \n",
              "4   5  Data scientists are kind of like the new Renai...   John Foreman   \n",
              "\n",
              "       category  \n",
              "0  Data Science  \n",
              "1  Data Science  \n",
              "2  Data Science  \n",
              "3  Data Science  \n",
              "4  Data Science  "
            ],
            "text/html": [
              "\n",
              "  <div id=\"df-f5398a64-c184-4681-9da3-551ae95295d4\">\n",
              "    <div class=\"colab-df-container\">\n",
              "      <div>\n",
              "<style scoped>\n",
              "    .dataframe tbody tr th:only-of-type {\n",
              "        vertical-align: middle;\n",
              "    }\n",
              "\n",
              "    .dataframe tbody tr th {\n",
              "        vertical-align: top;\n",
              "    }\n",
              "\n",
              "    .dataframe thead th {\n",
              "        text-align: right;\n",
              "    }\n",
              "</style>\n",
              "<table border=\"1\" class=\"dataframe\">\n",
              "  <thead>\n",
              "    <tr style=\"text-align: right;\">\n",
              "      <th></th>\n",
              "      <th>id</th>\n",
              "      <th>quote</th>\n",
              "      <th>author</th>\n",
              "      <th>category</th>\n",
              "    </tr>\n",
              "  </thead>\n",
              "  <tbody>\n",
              "    <tr>\n",
              "      <th>0</th>\n",
              "      <td>1</td>\n",
              "      <td>By definition all scientists are data scientis...</td>\n",
              "      <td>Monica Rogati</td>\n",
              "      <td>Data Science</td>\n",
              "    </tr>\n",
              "    <tr>\n",
              "      <th>1</th>\n",
              "      <td>2</td>\n",
              "      <td>Possessed' is probably the right word. I often...</td>\n",
              "      <td>Jennifer Shin</td>\n",
              "      <td>Data Science</td>\n",
              "    </tr>\n",
              "    <tr>\n",
              "      <th>2</th>\n",
              "      <td>3</td>\n",
              "      <td>I think of data science as more like a practic...</td>\n",
              "      <td>Bob Hayes</td>\n",
              "      <td>Data Science</td>\n",
              "    </tr>\n",
              "    <tr>\n",
              "      <th>3</th>\n",
              "      <td>4</td>\n",
              "      <td>As a data scientist, I can predict what is lik...</td>\n",
              "      <td>Bill Schmarzo</td>\n",
              "      <td>Data Science</td>\n",
              "    </tr>\n",
              "    <tr>\n",
              "      <th>4</th>\n",
              "      <td>5</td>\n",
              "      <td>Data scientists are kind of like the new Renai...</td>\n",
              "      <td>John Foreman</td>\n",
              "      <td>Data Science</td>\n",
              "    </tr>\n",
              "  </tbody>\n",
              "</table>\n",
              "</div>\n",
              "      <button class=\"colab-df-convert\" onclick=\"convertToInteractive('df-f5398a64-c184-4681-9da3-551ae95295d4')\"\n",
              "              title=\"Convert this dataframe to an interactive table.\"\n",
              "              style=\"display:none;\">\n",
              "        \n",
              "  <svg xmlns=\"http://www.w3.org/2000/svg\" height=\"24px\"viewBox=\"0 0 24 24\"\n",
              "       width=\"24px\">\n",
              "    <path d=\"M0 0h24v24H0V0z\" fill=\"none\"/>\n",
              "    <path d=\"M18.56 5.44l.94 2.06.94-2.06 2.06-.94-2.06-.94-.94-2.06-.94 2.06-2.06.94zm-11 1L8.5 8.5l.94-2.06 2.06-.94-2.06-.94L8.5 2.5l-.94 2.06-2.06.94zm10 10l.94 2.06.94-2.06 2.06-.94-2.06-.94-.94-2.06-.94 2.06-2.06.94z\"/><path d=\"M17.41 7.96l-1.37-1.37c-.4-.4-.92-.59-1.43-.59-.52 0-1.04.2-1.43.59L10.3 9.45l-7.72 7.72c-.78.78-.78 2.05 0 2.83L4 21.41c.39.39.9.59 1.41.59.51 0 1.02-.2 1.41-.59l7.78-7.78 2.81-2.81c.8-.78.8-2.07 0-2.86zM5.41 20L4 18.59l7.72-7.72 1.47 1.35L5.41 20z\"/>\n",
              "  </svg>\n",
              "      </button>\n",
              "      \n",
              "  <style>\n",
              "    .colab-df-container {\n",
              "      display:flex;\n",
              "      flex-wrap:wrap;\n",
              "      gap: 12px;\n",
              "    }\n",
              "\n",
              "    .colab-df-convert {\n",
              "      background-color: #E8F0FE;\n",
              "      border: none;\n",
              "      border-radius: 50%;\n",
              "      cursor: pointer;\n",
              "      display: none;\n",
              "      fill: #1967D2;\n",
              "      height: 32px;\n",
              "      padding: 0 0 0 0;\n",
              "      width: 32px;\n",
              "    }\n",
              "\n",
              "    .colab-df-convert:hover {\n",
              "      background-color: #E2EBFA;\n",
              "      box-shadow: 0px 1px 2px rgba(60, 64, 67, 0.3), 0px 1px 3px 1px rgba(60, 64, 67, 0.15);\n",
              "      fill: #174EA6;\n",
              "    }\n",
              "\n",
              "    [theme=dark] .colab-df-convert {\n",
              "      background-color: #3B4455;\n",
              "      fill: #D2E3FC;\n",
              "    }\n",
              "\n",
              "    [theme=dark] .colab-df-convert:hover {\n",
              "      background-color: #434B5C;\n",
              "      box-shadow: 0px 1px 3px 1px rgba(0, 0, 0, 0.15);\n",
              "      filter: drop-shadow(0px 1px 2px rgba(0, 0, 0, 0.3));\n",
              "      fill: #FFFFFF;\n",
              "    }\n",
              "  </style>\n",
              "\n",
              "      <script>\n",
              "        const buttonEl =\n",
              "          document.querySelector('#df-f5398a64-c184-4681-9da3-551ae95295d4 button.colab-df-convert');\n",
              "        buttonEl.style.display =\n",
              "          google.colab.kernel.accessAllowed ? 'block' : 'none';\n",
              "\n",
              "        async function convertToInteractive(key) {\n",
              "          const element = document.querySelector('#df-f5398a64-c184-4681-9da3-551ae95295d4');\n",
              "          const dataTable =\n",
              "            await google.colab.kernel.invokeFunction('convertToInteractive',\n",
              "                                                     [key], {});\n",
              "          if (!dataTable) return;\n",
              "\n",
              "          const docLinkHtml = 'Like what you see? Visit the ' +\n",
              "            '<a target=\"_blank\" href=https://colab.research.google.com/notebooks/data_table.ipynb>data table notebook</a>'\n",
              "            + ' to learn more about interactive tables.';\n",
              "          element.innerHTML = '';\n",
              "          dataTable['output_type'] = 'display_data';\n",
              "          await google.colab.output.renderOutput(dataTable, element);\n",
              "          const docLink = document.createElement('div');\n",
              "          docLink.innerHTML = docLinkHtml;\n",
              "          element.appendChild(docLink);\n",
              "        }\n",
              "      </script>\n",
              "    </div>\n",
              "  </div>\n",
              "  "
            ]
          },
          "metadata": {},
          "execution_count": 378
        }
      ]
    },
    {
      "cell_type": "code",
      "source": [
        "df.quote"
      ],
      "metadata": {
        "colab": {
          "base_uri": "https://localhost:8080/"
        },
        "id": "7yNbOgDhugnn",
        "outputId": "b702f69b-d8c7-4a19-a563-196a3fe16c84"
      },
      "execution_count": 379,
      "outputs": [
        {
          "output_type": "execute_result",
          "data": {
            "text/plain": [
              "0      By definition all scientists are data scientis...\n",
              "1      Possessed' is probably the right word. I often...\n",
              "2      I think of data science as more like a practic...\n",
              "3      As a data scientist, I can predict what is lik...\n",
              "4      Data scientists are kind of like the new Renai...\n",
              "                             ...                        \n",
              "159    Is artificial intelligence less than our intel...\n",
              "160    By far, the greatest danger of Artificial Inte...\n",
              "161    The sad thing about artificial intelligence is...\n",
              "162    Forget artificial intelligence – in the brave ...\n",
              "163    Before we work on artificial intelligence why ...\n",
              "Name: quote, Length: 164, dtype: object"
            ]
          },
          "metadata": {},
          "execution_count": 379
        }
      ]
    },
    {
      "cell_type": "code",
      "source": [
        "df.shape"
      ],
      "metadata": {
        "id": "f6WVr8Vsejhf",
        "colab": {
          "base_uri": "https://localhost:8080/"
        },
        "outputId": "a3a738e2-c1b8-41bf-ef24-acdec24c82af"
      },
      "execution_count": 380,
      "outputs": [
        {
          "output_type": "execute_result",
          "data": {
            "text/plain": [
              "(164, 4)"
            ]
          },
          "metadata": {},
          "execution_count": 380
        }
      ]
    },
    {
      "cell_type": "code",
      "source": [
        "features = ['quote', 'author', 'category']"
      ],
      "metadata": {
        "id": "u00ltWCqemJG"
      },
      "execution_count": 381,
      "outputs": []
    },
    {
      "cell_type": "code",
      "source": [
        "df1 = df['author'].str.split(' ', expand = True)\n",
        "df['author'] = df1[0] + df1[1]"
      ],
      "metadata": {
        "id": "SgY3nIXFvI_s"
      },
      "execution_count": 382,
      "outputs": []
    },
    {
      "cell_type": "code",
      "source": [
        "# df.drop(['author'], axis = 1, inplace = True)"
      ],
      "metadata": {
        "id": "jWZ5sp1ZFDtp"
      },
      "execution_count": 383,
      "outputs": []
    },
    {
      "cell_type": "code",
      "source": [
        "df.head(5)"
      ],
      "metadata": {
        "colab": {
          "base_uri": "https://localhost:8080/",
          "height": 206
        },
        "id": "bCu-Wf8bEzlx",
        "outputId": "94c8efa5-aece-4f66-a2e7-1227dcbf42bf"
      },
      "execution_count": 384,
      "outputs": [
        {
          "output_type": "execute_result",
          "data": {
            "text/plain": [
              "   id                                              quote        author  \\\n",
              "0   1  By definition all scientists are data scientis...  MonicaRogati   \n",
              "1   2  Possessed' is probably the right word. I often...  JenniferShin   \n",
              "2   3  I think of data science as more like a practic...      BobHayes   \n",
              "3   4  As a data scientist, I can predict what is lik...  BillSchmarzo   \n",
              "4   5  Data scientists are kind of like the new Renai...   JohnForeman   \n",
              "\n",
              "       category  \n",
              "0  Data Science  \n",
              "1  Data Science  \n",
              "2  Data Science  \n",
              "3  Data Science  \n",
              "4  Data Science  "
            ],
            "text/html": [
              "\n",
              "  <div id=\"df-1f7892bf-9588-46c0-a7c2-b4f04dd4e25b\">\n",
              "    <div class=\"colab-df-container\">\n",
              "      <div>\n",
              "<style scoped>\n",
              "    .dataframe tbody tr th:only-of-type {\n",
              "        vertical-align: middle;\n",
              "    }\n",
              "\n",
              "    .dataframe tbody tr th {\n",
              "        vertical-align: top;\n",
              "    }\n",
              "\n",
              "    .dataframe thead th {\n",
              "        text-align: right;\n",
              "    }\n",
              "</style>\n",
              "<table border=\"1\" class=\"dataframe\">\n",
              "  <thead>\n",
              "    <tr style=\"text-align: right;\">\n",
              "      <th></th>\n",
              "      <th>id</th>\n",
              "      <th>quote</th>\n",
              "      <th>author</th>\n",
              "      <th>category</th>\n",
              "    </tr>\n",
              "  </thead>\n",
              "  <tbody>\n",
              "    <tr>\n",
              "      <th>0</th>\n",
              "      <td>1</td>\n",
              "      <td>By definition all scientists are data scientis...</td>\n",
              "      <td>MonicaRogati</td>\n",
              "      <td>Data Science</td>\n",
              "    </tr>\n",
              "    <tr>\n",
              "      <th>1</th>\n",
              "      <td>2</td>\n",
              "      <td>Possessed' is probably the right word. I often...</td>\n",
              "      <td>JenniferShin</td>\n",
              "      <td>Data Science</td>\n",
              "    </tr>\n",
              "    <tr>\n",
              "      <th>2</th>\n",
              "      <td>3</td>\n",
              "      <td>I think of data science as more like a practic...</td>\n",
              "      <td>BobHayes</td>\n",
              "      <td>Data Science</td>\n",
              "    </tr>\n",
              "    <tr>\n",
              "      <th>3</th>\n",
              "      <td>4</td>\n",
              "      <td>As a data scientist, I can predict what is lik...</td>\n",
              "      <td>BillSchmarzo</td>\n",
              "      <td>Data Science</td>\n",
              "    </tr>\n",
              "    <tr>\n",
              "      <th>4</th>\n",
              "      <td>5</td>\n",
              "      <td>Data scientists are kind of like the new Renai...</td>\n",
              "      <td>JohnForeman</td>\n",
              "      <td>Data Science</td>\n",
              "    </tr>\n",
              "  </tbody>\n",
              "</table>\n",
              "</div>\n",
              "      <button class=\"colab-df-convert\" onclick=\"convertToInteractive('df-1f7892bf-9588-46c0-a7c2-b4f04dd4e25b')\"\n",
              "              title=\"Convert this dataframe to an interactive table.\"\n",
              "              style=\"display:none;\">\n",
              "        \n",
              "  <svg xmlns=\"http://www.w3.org/2000/svg\" height=\"24px\"viewBox=\"0 0 24 24\"\n",
              "       width=\"24px\">\n",
              "    <path d=\"M0 0h24v24H0V0z\" fill=\"none\"/>\n",
              "    <path d=\"M18.56 5.44l.94 2.06.94-2.06 2.06-.94-2.06-.94-.94-2.06-.94 2.06-2.06.94zm-11 1L8.5 8.5l.94-2.06 2.06-.94-2.06-.94L8.5 2.5l-.94 2.06-2.06.94zm10 10l.94 2.06.94-2.06 2.06-.94-2.06-.94-.94-2.06-.94 2.06-2.06.94z\"/><path d=\"M17.41 7.96l-1.37-1.37c-.4-.4-.92-.59-1.43-.59-.52 0-1.04.2-1.43.59L10.3 9.45l-7.72 7.72c-.78.78-.78 2.05 0 2.83L4 21.41c.39.39.9.59 1.41.59.51 0 1.02-.2 1.41-.59l7.78-7.78 2.81-2.81c.8-.78.8-2.07 0-2.86zM5.41 20L4 18.59l7.72-7.72 1.47 1.35L5.41 20z\"/>\n",
              "  </svg>\n",
              "      </button>\n",
              "      \n",
              "  <style>\n",
              "    .colab-df-container {\n",
              "      display:flex;\n",
              "      flex-wrap:wrap;\n",
              "      gap: 12px;\n",
              "    }\n",
              "\n",
              "    .colab-df-convert {\n",
              "      background-color: #E8F0FE;\n",
              "      border: none;\n",
              "      border-radius: 50%;\n",
              "      cursor: pointer;\n",
              "      display: none;\n",
              "      fill: #1967D2;\n",
              "      height: 32px;\n",
              "      padding: 0 0 0 0;\n",
              "      width: 32px;\n",
              "    }\n",
              "\n",
              "    .colab-df-convert:hover {\n",
              "      background-color: #E2EBFA;\n",
              "      box-shadow: 0px 1px 2px rgba(60, 64, 67, 0.3), 0px 1px 3px 1px rgba(60, 64, 67, 0.15);\n",
              "      fill: #174EA6;\n",
              "    }\n",
              "\n",
              "    [theme=dark] .colab-df-convert {\n",
              "      background-color: #3B4455;\n",
              "      fill: #D2E3FC;\n",
              "    }\n",
              "\n",
              "    [theme=dark] .colab-df-convert:hover {\n",
              "      background-color: #434B5C;\n",
              "      box-shadow: 0px 1px 3px 1px rgba(0, 0, 0, 0.15);\n",
              "      filter: drop-shadow(0px 1px 2px rgba(0, 0, 0, 0.3));\n",
              "      fill: #FFFFFF;\n",
              "    }\n",
              "  </style>\n",
              "\n",
              "      <script>\n",
              "        const buttonEl =\n",
              "          document.querySelector('#df-1f7892bf-9588-46c0-a7c2-b4f04dd4e25b button.colab-df-convert');\n",
              "        buttonEl.style.display =\n",
              "          google.colab.kernel.accessAllowed ? 'block' : 'none';\n",
              "\n",
              "        async function convertToInteractive(key) {\n",
              "          const element = document.querySelector('#df-1f7892bf-9588-46c0-a7c2-b4f04dd4e25b');\n",
              "          const dataTable =\n",
              "            await google.colab.kernel.invokeFunction('convertToInteractive',\n",
              "                                                     [key], {});\n",
              "          if (!dataTable) return;\n",
              "\n",
              "          const docLinkHtml = 'Like what you see? Visit the ' +\n",
              "            '<a target=\"_blank\" href=https://colab.research.google.com/notebooks/data_table.ipynb>data table notebook</a>'\n",
              "            + ' to learn more about interactive tables.';\n",
              "          element.innerHTML = '';\n",
              "          dataTable['output_type'] = 'display_data';\n",
              "          await google.colab.output.renderOutput(dataTable, element);\n",
              "          const docLink = document.createElement('div');\n",
              "          docLink.innerHTML = docLinkHtml;\n",
              "          element.appendChild(docLink);\n",
              "        }\n",
              "      </script>\n",
              "    </div>\n",
              "  </div>\n",
              "  "
            ]
          },
          "metadata": {},
          "execution_count": 384
        }
      ]
    },
    {
      "cell_type": "code",
      "source": [
        "df.isnull().sum()"
      ],
      "metadata": {
        "colab": {
          "base_uri": "https://localhost:8080/"
        },
        "id": "3claCcayID3N",
        "outputId": "3c380536-24e8-4d60-8bd7-7ba9e9cdba1e"
      },
      "execution_count": 385,
      "outputs": [
        {
          "output_type": "execute_result",
          "data": {
            "text/plain": [
              "id          0\n",
              "quote       0\n",
              "author      3\n",
              "category    0\n",
              "dtype: int64"
            ]
          },
          "metadata": {},
          "execution_count": 385
        }
      ]
    },
    {
      "cell_type": "code",
      "source": [
        "df.dropna(inplace = True)"
      ],
      "metadata": {
        "id": "okE00D03IJqE"
      },
      "execution_count": 386,
      "outputs": []
    },
    {
      "cell_type": "code",
      "source": [
        "combine = df['quote'].str.lower() + ' ' + df['author'].str.lower() + ' ' + df['category'].str.lower()"
      ],
      "metadata": {
        "id": "xcwkg0PSe1up"
      },
      "execution_count": 387,
      "outputs": []
    },
    {
      "cell_type": "code",
      "source": [
        "print(combine)"
      ],
      "metadata": {
        "id": "zpXVCD3dfCJU",
        "colab": {
          "base_uri": "https://localhost:8080/"
        },
        "outputId": "0857bc55-b54a-4aaf-a236-f2c0e2060f28"
      },
      "execution_count": 388,
      "outputs": [
        {
          "output_type": "stream",
          "name": "stdout",
          "text": [
            "0      by definition all scientists are data scientis...\n",
            "1      possessed' is probably the right word. i often...\n",
            "2      i think of data science as more like a practic...\n",
            "3      as a data scientist, i can predict what is lik...\n",
            "4      data scientists are kind of like the new renai...\n",
            "                             ...                        \n",
            "159    is artificial intelligence less than our intel...\n",
            "160    by far, the greatest danger of artificial inte...\n",
            "161    the sad thing about artificial intelligence is...\n",
            "162    forget artificial intelligence – in the brave ...\n",
            "163    before we work on artificial intelligence why ...\n",
            "Length: 161, dtype: object\n"
          ]
        }
      ]
    },
    {
      "cell_type": "code",
      "source": [
        "from sklearn.feature_extraction import text\n",
        "my_stop_words = text.ENGLISH_STOP_WORDS.union([\"book\"])\n",
        "vectorize = TfidfVectorizer(ngram_range=(1,1), stop_words=my_stop_words)"
      ],
      "metadata": {
        "id": "3fUthqIZL_Tg"
      },
      "execution_count": 407,
      "outputs": []
    },
    {
      "cell_type": "code",
      "source": [
        "feature_vectors = vectorize.fit_transform(combine)"
      ],
      "metadata": {
        "id": "eXhos5TFfLsX"
      },
      "execution_count": 408,
      "outputs": []
    },
    {
      "cell_type": "code",
      "source": [
        "print(feature_vectors)"
      ],
      "metadata": {
        "id": "REWU-sIvfQu0",
        "colab": {
          "base_uri": "https://localhost:8080/"
        },
        "outputId": "57f1b9a7-969a-472a-b409-1c952ec130c5"
      },
      "execution_count": 409,
      "outputs": [
        {
          "output_type": "stream",
          "name": "stdout",
          "text": [
            "  (0, 1086)\t0.09533039704446845\n",
            "  (0, 833)\t0.18488884908820388\n",
            "  (0, 355)\t0.21214835829823603\n",
            "  (0, 1126)\t0.21214835829823603\n",
            "  (0, 465)\t0.21214835829823603\n",
            "  (0, 473)\t0.21214835829823603\n",
            "  (0, 1160)\t0.21214835829823603\n",
            "  (0, 223)\t0.21214835829823603\n",
            "  (0, 806)\t0.21214835829823603\n",
            "  (0, 224)\t0.21214835829823603\n",
            "  (0, 646)\t0.15762933987817176\n",
            "  (0, 980)\t0.19620256762230426\n",
            "  (0, 156)\t0.1689430584122721\n",
            "  (0, 1304)\t0.15299726773634031\n",
            "  (0, 56)\t0.21214835829823603\n",
            "  (0, 567)\t0.21214835829823603\n",
            "  (0, 571)\t0.42429671659647206\n",
            "  (0, 889)\t0.19620256762230426\n",
            "  (0, 316)\t0.2088399811412263\n",
            "  (0, 1089)\t0.29021091887709677\n",
            "  (0, 339)\t0.21214835829823603\n",
            "  (1, 684)\t0.2012702375135048\n",
            "  (1, 495)\t0.18614208331787507\n",
            "  (1, 332)\t0.18614208331787507\n",
            "  (1, 849)\t0.1172731467956762\n",
            "  :\t:\n",
            "  (158, 36)\t0.1601418681092131\n",
            "  (158, 652)\t0.3508344801187029\n",
            "  (158, 87)\t0.1788691041812127\n",
            "  (159, 1262)\t0.3766766107215666\n",
            "  (159, 609)\t0.3766766107215666\n",
            "  (159, 145)\t0.3766766107215666\n",
            "  (159, 755)\t0.3483643181576911\n",
            "  (159, 827)\t0.1452579216679109\n",
            "  (159, 36)\t0.14399974879642538\n",
            "  (159, 652)\t0.15773538051824204\n",
            "  (159, 87)\t0.3216786012758452\n",
            "  (159, 127)\t0.20923948445991358\n",
            "  (159, 507)\t0.32827642689957554\n",
            "  (159, 1361)\t0.24080011644040733\n",
            "  (159, 857)\t0.24080011644040733\n",
            "  (159, 316)\t0.12360082492970374\n",
            "  (160, 1176)\t0.4786123451263583\n",
            "  (160, 1191)\t0.4786123451263583\n",
            "  (160, 827)\t0.18456743147519034\n",
            "  (160, 36)\t0.18296877349788054\n",
            "  (160, 652)\t0.20042152400866312\n",
            "  (160, 87)\t0.20436542295348853\n",
            "  (160, 1358)\t0.3674633093217128\n",
            "  (160, 844)\t0.41711416651841415\n",
            "  (160, 386)\t0.2887390038697543\n"
          ]
        }
      ]
    },
    {
      "cell_type": "code",
      "source": [
        "similar = cosine_similarity(feature_vectors)"
      ],
      "metadata": {
        "id": "soVyp-67fTVz"
      },
      "execution_count": 410,
      "outputs": []
    },
    {
      "cell_type": "code",
      "source": [
        "print(similar)"
      ],
      "metadata": {
        "id": "KddX0wt4fzjU",
        "colab": {
          "base_uri": "https://localhost:8080/"
        },
        "outputId": "fee3eee8-b990-4b60-e49b-3bca5c929b20"
      },
      "execution_count": 411,
      "outputs": [
        {
          "output_type": "stream",
          "name": "stdout",
          "text": [
            "[[1.         0.06379227 0.09452393 ... 0.         0.02581279 0.        ]\n",
            " [0.06379227 1.         0.14375579 ... 0.         0.03265229 0.03505957]\n",
            " [0.09452393 0.14375579 1.         ... 0.         0.03558586 0.        ]\n",
            " ...\n",
            " [0.         0.         0.         ... 1.         0.15940288 0.16598562]\n",
            " [0.02581279 0.03265229 0.03558586 ... 0.15940288 1.         0.15051089]\n",
            " [0.         0.03505957 0.         ... 0.16598562 0.15051089 1.        ]]\n"
          ]
        }
      ]
    },
    {
      "cell_type": "code",
      "source": [
        "similar.shape"
      ],
      "metadata": {
        "id": "zx3r-tVUf1Ed",
        "colab": {
          "base_uri": "https://localhost:8080/"
        },
        "outputId": "836eb230-37ac-4e8a-915d-1bea2f8ef1c5"
      },
      "execution_count": 412,
      "outputs": [
        {
          "output_type": "execute_result",
          "data": {
            "text/plain": [
              "(161, 161)"
            ]
          },
          "metadata": {},
          "execution_count": 412
        }
      ]
    },
    {
      "cell_type": "code",
      "source": [
        "quote = input('Enter the quote: ').lower()"
      ],
      "metadata": {
        "id": "PXycrwFLgVda",
        "colab": {
          "base_uri": "https://localhost:8080/"
        },
        "outputId": "102af0cd-cae7-4a1b-a919-24b73c827c5c"
      },
      "execution_count": 414,
      "outputs": [
        {
          "name": "stdout",
          "output_type": "stream",
          "text": [
            "Enter the quote: Data analysts who don't organize their transformation pipelines often end up not being able to repeat their analyses, so the advice I would give to myself is the same advice often given to traditional scientists: make your experiments repeatable!\n"
          ]
        }
      ]
    },
    {
      "cell_type": "code",
      "source": [
        "quote_all = df['quote'].tolist()\n",
        "print(quote_all)"
      ],
      "metadata": {
        "id": "3xAASpQ0f5jm",
        "colab": {
          "base_uri": "https://localhost:8080/"
        },
        "outputId": "ae9448ff-1a1b-4c08-9bde-caa030682245"
      },
      "execution_count": 415,
      "outputs": [
        {
          "output_type": "stream",
          "name": "stdout",
          "text": [
            "[\"By definition all scientists are data scientists. In my opinion, they are half hacker, half analyst, they use data to build products and find insights. It's Columbus meet Columbo―starry-eyed explorers and skeptical detectives.\", \"Possessed' is probably the right word. I often tell people, I don't want to necessarily be a data scientist. You just kind of are a data scientist. You just can't help but look at that data set and go, I feel like I need to look deeper. I feel like that's not the right fit.'\", \"I think of data science as more like a practice than a job. Think of the scientific method, where you have to have a problem statement, generate a hypothesis, collect data, analyze data and then communicate the results and take action…. If you just use the scientific method as a way to approach data-intensive projects, I think you're more apt to be successful with your outcome.\", \"As a data scientist, I can predict what is likely to happen, but I cannot explain why it is going to happen. I can predict when someone is likely to attrite, or respond to a promotion, or commit fraud, or pick the pink button over the blue button, but I cannot tell you why that's going to happen. And I believe that the inability to explain why something is going to happen is why I struggle to call data science' a science.\", 'Data scientists are kind of like the new Renaissance folks, because data science is inherently multidisciplinary.', 'Data Scientist (n.): Person who is better at statistics than any software engineer and better at software engineering than any statistician.', 'As data scientists, our job is to extract signal from noise.', \"The job of the data scientist is to ask the right questions. If I ask a question like how many clicks did this link get?' which is something we look at all the time, that's not a data science question. It's an analytics question. If I ask a question like, based on the previous history of links on this publisher's site, can I predict how many people from France will read this in the next three hours?' that's more of a data science question.\", 'A data scientist does model-driven analyses of our data; analyzes to improve our planning, increase our productivity, and develop our deeper levels of subject matter expertise. A data scientist works at the tactical, operational, and strategic levels, sharing insights with the business.', '[Data scientists are] able to think of ways to use data to solve problems that otherwise would have been unsolved, or solved using only intuition.', \"What sort of personality makes for an effective data scientist? Definitely curiosity…. The biggest question in data science is Why?' Why is this happening? If you notice that there's a pattern, ask, Why? Is there something wrong with the data or is this an actual pattern going on? Can we conclude anything from this pattern? A natural curiosity will definitely give you a good foundation.\", \"There is a saying, A jack of all trades and a master of none.' When it comes to being a data scientist you need to be a bit like this, but perhaps a better saying would be, A jack of all trades and a master of some.'\", 'My number one piece of advice always is to follow your passions first. Know what you are good at and what you care about, and pursue that…. As a successful data scientist, your day can begin and end with you counting your blessings that you are living your dream by solving real-world problems with data.', 'I do not know how you teach someone to love to learn, but being self-motivated is integral to this field. Once you have the core concepts, to be able to be really excited about, and continue to seek out, new information is something that I look for, for example, when we are recruiting people.', \"You can best learn data mining and data science by doing, so start analyzing data as soon as you can! However, don't forget to learn the theory, since you need a good statistical and machine learning foundation to understand what you are doing and to find real nuggets of value in the noise of big data.\", 'Learning how to do data science is like learning to ski. You have to do it.', \"Data science's learning curve is formidable. To a great degree, you will need a degree, or something substantially like it, to prove you're committed to this career….\", \"There is no bottleneck for data scientists… The bottleneck is very often for companies who don't have a culture of working with data to actually cut down the process into the right steps.\", 'Once you have a certain amount of math/stats and hacking skills, it is much better to acquire a grounding in one or more subjects than in adding yet another programming language to your hacking skills, or yet another machine learning algorithm to your math/stats portfolio…. Clients will rather work with some data scientist A who understands their specific field than with another data scientist B who first needs to learn the basics―even if B is better in math/stats/hacking.', \"Being a data scientist is not only about data crunching. It's about understanding the business challenge, creating some valuable actionable insights to the data, and communicating their findings to the business.\", 'Without a grounding in statistics, a Data Scientist is a Data Lab Assistant.', 'Having skills in statistics, math, and programming is certainly necessary to be a great analytic professional, but they are not sufficient to make a person a great analytic professional.', 'Talented data scientists leverage data that everybody sees; visionary data scientists leverage data that nobody sees.', 'What makes a good scientist great is creativity with data, skepticism and good communication skills. Getting all of that together in the same person is difficult―because traditionally, different people follow different paths in their careers―some are more technical, others are more creative and communicative. A data scientist has to have both.', 'Good data science is exactly the same [as] good science…. Good data science will never be measured by the terabytes in your Cassandra database, the number of EC2 nodes your jobs is using, or the volume of mappers you can send through a Hadoop instance. Having a lot of data does not license you to have a lot to say about it.', 'Critical thinking skills…really [set] apart the hackers from the true scientists, for me…. You must must MUST be able to question every step of your process and every number that you come up with.', 'How do we start to regulate the mathematical models that run more and more of our lives? I would suggest that the process begin with the modelers themselves. Like doctors, data scientists should pledge a Hippocratic Oath, one that focuses on the possible misuses and misinterpretations of their models.', \"With too little data, you won't be able to make any conclusions that you trust. With loads of data you will find relationships that aren't real… Big data isn't about bits, it's about talent.\", \"Data analysts who don't organize their transformation pipelines often end up not being able to repeat their analyses, so the advice I would give to myself is the same advice often given to traditional scientists: make your experiments repeatable!\", 'For me, data science is a mix of three things: quantitative analysis (for the rigor necessary to understand your data), programming (so that you can process your data and act on your insights), and storytelling (to help others understand what the data means).', 'The difference between a great [data scientist] and a good one is like the difference between lightning and a lightning bug.', 'The numbers have no way of speaking for themselves. We speak for them. We imbue them with meaning…. Data-driven predictions can succeed―and they can fail. It is when we deny our role in the process that the odds of failure rise. Before we demand more of our data, we need to demand more of ourselves.', 'One of the big challenges of being a data scientist that people might not usually think about – is that the results or the insights you come up with have to make sense and be convincing. The more intelligible you can make them, the more likely it is that your recommendations will be put into effect.', \"A data scientist must possess the knack of being able to identify business value from mathematical models.' But that vital business value can only materialize if the data scientist also networks with other departments, understands their objectives, is familiar with their data and processes – and can spot the analysis options they provide.\", \"You need to be able to take a dataset and discover and communicate what's interesting about it for your users. To turn this into a product requires understanding how to turn one-off analysis into something reliable enough to run day after day, even as the data evolves and grows, and as different users experience different aspects of it.\", \"We should expect a Big Data 2.0' phase to follow Big Data 1.0'. Once firms have become capable of processing massive data in a flexible fashion, they should begin asking: What can I do that I couldn't do before, or do better than I could do before?' This is likely to be the golden era of data science.\", 'The coming era of Artificial Intelligence will not be the era of war, but be the era of deep compassion, non-violence, and love.', \"Artificial intelligence would be the ultimate version of Google. The ultimate search engine that would understand everything on the web. It would understand exactly what you wanted, and it would give you the right thing. We're nowhere near doing that now. However, we can get incrementally closer to that, and that is basically what we work on.\", 'Cyber hygiene, patching vulnerabilities, security by design, threat hunting, and machine learning-based artificial intelligence are mandatory prerequisites for cyber defense against the next generation threat landscape.', \"You have to talk about The Terminator' if you're talking about artificial intelligence. I actually think that that's way off. I don't think that an artificially intelligent system that has superhuman intelligence will be violent. I do think that it will disrupt our culture.\", 'I believe that at the end of the century the use of words and general educated opinion will have altered so much that one will be able to speak of machines thinking without expecting to be contradicted.', 'Robots are not going to replace humans, they are going to make their jobs much more humane. Difficult, demeaning, demanding, dangerous, dull – these are the jobs robots will be taking.', \"The ultimate search engine would understand everything in the world. It would understand everything that you asked it and give you back the exact right thing instantly. You could ask what should I ask Larry?' and it would tell you. \", 'The key to artificial intelligence has always been the representation.', \"Some people call this artificial intelligence, but the reality is this technology will enhance us. So instead of artificial intelligence, I think we'll augment our intelligence.\", 'Artificial intelligence will reach human levels by around 2029. Follow that out further to, say, 2045, and we will have multiplied the intelligence – the human biological machine intelligence of our civilization – a billion-fold.', 'Machine intelligence is the last invention that humanity will ever need to make. ', 'Success in creating AI would be the biggest event in human history. Unfortunately, it might also be the last, unless we learn how to avoid the risks.', \"The pace of progress in artificial intelligence (I'm not referring to narrow AI) is incredibly fast. Unless you have direct exposure to groups like Deepmind, you have no idea how fast—it is growing at a pace close to exponential. The risk of something seriously dangerous happening is in the five-year time frame. 10 years at most.\", 'It seems probable that once the machine thinking method had started, it would not take long to outstrip our feeble powers… They would be able to converse with each other to sharpen their wits. At some stage, therefore, we should have to expect the machines to take control.', 'If people trust artificial intelligence (AI) to drive a car, people will most likely trust AI to do your job. ', \"People worry that computers will get too smart and take over the world, but the real problem is that they're too stupid and they've already taken over the world.\", 'Anything that could give rise to smarter-than-human intelligence—in the form of Artificial Intelligence, brain-computer interfaces, or neuroscience-based human intelligence enhancement – wins hands down beyond contest as doing the most to change the world. Nothing else is even in the same league.', 'Some people worry that artificial intelligence will make us feel inferior, but then, anybody in his right mind should have an inferiority complex every time he looks at a flower.', 'Artificial intelligence will reach human levels by around 2029. Follow that out further to, say, 2045, we will have multiplied the intelligence, the human biological machine intelligence of our civilization a billion-fold.', \"I visualise a time when we will be to robots what dogs are to humans, and I'm rooting for the machines.\", \"It's going to be interesting to see how society deals with artificial intelligence, but it will definitely be cool.\", 'Artificial intelligence is growing up fast, as are robots whose facial expressions can elicit empathy and make your mirror neurons quiver.', 'A computer would deserve to be called intelligent if it could deceive a human into believing that it was human.', \"I'm more frightened than interested by artificial intelligence – in fact, perhaps fright and interest are not far away from one another. Things can become real in your mind, you can be tricked, and you believe things you wouldn't ordinarily. A world run by automatons doesn't seem completely unrealistic anymore. It's a bit chilling.\", \"Why give a robot an order to obey orders—why aren't the original orders enough? Why command a robot not to do harm—wouldn't it be easier never to command it to do harm in the first place?\", \"AI doesn't have to be evil to destroy humanity – if AI has a goal and humanity just happens to come in the way, it will destroy humanity as a matter of course without even thinking about it, no hard feelings.\", 'As more and more artificial intelligence is entering into the world, more and more emotional intelligence must enter into leadership.', \"I'm increasingly inclined to think that there should be some regulatory oversight, maybe at the national and international level, just to make sure that we don't do something very foolish. I mean with artificial intelligence we're summoning the demon. \", 'As more and more artificial intelligence is entering into the world, more and more emotional intelligence must enter into leadership.', \"I'm more frightened than interested by artificial intelligence – in fact, perhaps fright and interest are not far away from one another. Things can become real in your mind, you can be tricked, and you believe things you wouldn't ordinarily. A world run by automatons doesn't seem completely unrealistic anymore. It's a bit chilling. \", 'The upheavals [of artificial intelligence] can escalate quickly and become scarier and even cataclysmic. Imagine how a medical robot, originally programmed to rid cancer, could conclude that the best way to obliterate cancer is to exterminate humans who are genetically prone to the disease.', \"The development of full artificial intelligence could spell the end of the human race….It would take off on its own, and re-design itself at an ever-increasing rate. Humans, who are limited by slow biological evolution, couldn't compete, and would be superseded.\", 'We must address, individually and collectively, moral and ethical issues raised by cutting-edge research in artificial intelligence and biotechnology, which will enable significant life extension, designer babies, and memory extraction.', 'If the government regulates against the use of drones or stem cells or artificial intelligence, all that means is that the work and the research leave the borders of that country and go someplace else.', 'The real question is, when will we draft an artificial intelligence bill of rights? What will that consist of? And who will get to decide that?', 'By far, the greatest danger of Artificial Intelligence is that people conclude too early that they understand it.', 'If we do it right, we might be able to evolve a form of work that taps into our uniquely human capabilities and restores our humanity. The ultimate paradox is that this technology may become a powerful catalyst that we need to reclaim our humanity.', \"I'm increasingly inclined to think that there should be some regulatory oversight, maybe at the national and international level, just to make sure that we don't do something very foolish. I mean with artificial intelligence we're summoning the demon.\", \"I don't want to really scare you, but it was alarming how many people I talked to who are highly placed people in AI who have retreats that are sort of bug out' houses, to which they could flee if it all hits the fan.\", 'We have seen AI providing conversation and comfort to the lonely; we have also seen AI engaging in racial discrimination. Yet the biggest harm that AI is likely to do to individuals in the short term is job displacement, as the amount of work we can automate with AI is vastly larger than before. As leaders, it is incumbent on all of us to make sure we are building a world in which every individual has an opportunity to thrive.', \"Different verticals need different terminal retention rates for them to have successful businesses. If you're on e-commerce and you're retaining on a monthly active basis, like 20 to 30% of your users, you're going to do very well. If you're on social media, and the first batch of people signing up to your product are not like, 80% retained, you're not going to have a massive social media site. [...] What you need to do is have the tools to think, who out there is comparable' and how you can look at it and say, am I anywhere close to what real success looks like in this vertical?' \", \"Tracking marketing is a cultural thing. Either tracking matters or it doesn't. You're in one camp or the other. Either you're analytical and data-driven, or you go by what you think works. People who go by gut are wrong.\", \"Time and money are your scarcest resources. You want to make sure you're allocating them in the highest-impact areas. Data reveals impact, and with data, you can bring more science to your decisions.\", \"Have a vision for what you are trying to do. Use data to validate and help you navigate that vision, and map it down into small enough pieces where you can begin to execute in a data-informed way. Don't let shallow analysis of data that happens to be cheap/easy/fast to collect nudge you off-course in your entrepreneurial pursuits.\", 'Execution is so critical. Sometimes you just need to try something, see what works and move forward.', \"When we initially started testing email subject lines, we defined the success criteria as driving an email open. This seemed to be the most straightforward since the Pinner reads the email subject line and the next action is to either open it or don't. What we found, however, was that defining success with metrics that were further downstream (i.e. clicking on the content in the email) was more effective.\", \"If there's one takeaway it's that it's okay to do small wins. Small wins are good, they will compound. If you're doing it right the end result will be massive.\", 'The most important thing we\\'ve done to improve our user onboarding was to define our activation metric and get serious about tracking the inputs to that metric. Agreeing on what a successfully \"activated\" account looked like, and understanding all the individual actions to get there, allowed us to take our new user onboarding to the next level. We formed a cross-functional team dedicated to increasing that metric. The team is able to clearly prioritize ideas and projects since we all agree what success looks like. That activation metric is paying huge dividends to our users and our company.', \"There's more objectivity in one customer sharing their passion and love for a product with another than there is in ads or promotion. It allows the company to spend less to achieve lasting growth.\", \"The people that understand how analytics shape a business best are the people that live and breathe building businesses: CEOs and founders. They've seen it all, they've built it with data, and we've got their best analytics quotes, right here.\", \"If you're looking for insight as to how you can better structure data within your business, or you're trying to dig into the hearts and minds of your customers, there's surely a nugget of wisdom out there for you.\", \"You can't run a business today without data. But you also can't let the numbers drive the car. No matter how big your company is or how far along you are, there's an art to company-building that won't fit in any spreadsheet.\", 'As you gain fresh insight from your data, it opens the door to new questions. As you have new questions, you need to update your instrumentation and analysis. Saying the process is done is saying you understand everything there is to know about your users, product, and channels.', 'Analytics software is uniquely leveraged. Most software can optimize existing processes, but analytics (done right) should generate insights that bring to life whole new initiatives. It should change what you do, not just how you do it.', 'If you pick the right metrics for success, you will be able to significantly improve the focus of the whole team and thus improve your business. Developing these metrics should be done first by making hypotheses about your business and validating / invalidating these hypotheses. From there you will have a good base understanding that will allow you to determine what metrics to focus on and how to define success for your business.', 'The goal is to turn data into information, and information into insight.', \"You want everyone to be able to look at the data and make sense out of it. It should be a value everyone has at your company, especially people interfacing directly with customers. There shouldn't be any silos where engineers translate the data before handing it over to sales or customer service. That wastes precious time.\", \"We've tried to put passion and art and love and creativity ahead of revenue and valuation and buzz and traction, discovering that the latter can often follow the former.\", \"Of course hard numbers tell an important story; user stats and sales numbers will always be key metrics. But every day, your users are sharing a huge amount of qualitative data, too — and a lot of companies either don't know how or forget to act on it.\", \"We live in a time where data is all around us, and there's a lot of great advice to show us how to make better use of data. However, I've found that in some cases this can be a huge waste of time, especially early on with your startup. Replace some of your current focus on quantitative data to qualitative data).\", \"The single most important thing we've done for onboarding is planning past the first session. Let's say you have a SaaS application and know that new users who take actions X, Y, and Z end up being really successful.\", \"It's tempting to build a linear new user flow that encourages them to take these 3 actions then call it a day. But that's just not how humans evaluate software - most of them will hardly complete one of the three actions in their first session. [...]\", \"Planning past the first session matches your funnel to your buyer's decision making process. It means aligning your in-product experiences, email campaigns and sales/customer success outreach to reinforce the user's success path.\", \"The problem with Silicon Valley is when you build an app you are expected to make the app go viral and reach millions of people. This is the worst way to think about it — it's much better to get 100 people to love you. There was no way we could get 1M people on Airbnb, but we could get 100 people to love us. This is when we decided to do things that wouldn't scale. Getting 100 people to love you is hard — getting people to like you is much easier than getting people to love you.\", \"I learned a lesson from watching other companies who held onto things too long. If you look at the history of companies that have succeeded and the ones that have failed, there's a pretty clear pattern that the ones that have succeeded typically morph every couple of years into something new. And that change is fairly uncomfortable.\", \"[For early-stage startups,] data is never there when you need it most. At best, data can help you make very small, incremental decisions. But if you're a startup, you're focused on big, broad swings — and data has no place in that. You don't have enough users to draw any meaningful conclusions, and even if you did those users aren't necessarily representative of your long term target audience. You've got data, sure. But not enough to make a genuine, data-driven decision, and pretending otherwise is a recipe for disaster.\", \"Use analytics to make decisions. I always thought you needed a clear answer before you made a decision and the thing that he taught me was [that] you've got to use analytics directionally…and never worry whether they are 100% sure. Just try to get them to point you in the right direction.\", \"Your metrics influence each other. You need to monitor how. Don't just measure which clicks generate orders. Back it up and break it down. Follow users from their very first point of contact with you to their behavior on your site and the actual transaction. You have to make the linkage all the way through.\", \"Venture capitalists have a unique perspective on business and analytics, because they evaluate from an outside perspective. Often becoming a VC after years of experience in business, investing, banking, or founding, a VC's future professional success depends on their ability to determine what will sink and what will swim.\", \"Churn, metrics, growth, and conversions are just some of the things that we've got on the record from VCs.\", \"Merely measuring something has an uncanny tendency to improve it. If you want to make your user numbers go up, put a big piece of paper on your wall and everyday plot the number of users. You'll be delighted when it goes up and disappointed when it goes down. Pretty soon you'll start noticing what makes the number go up, and you'll start to do more of that. Corollary: be careful what you measure.\", 'Your users are your guidepost. And the way you stay on the right path in the early stages of a startup is to build stuff and talk to users. And nothing else.', \"For predictive analytics, we need an infrastructure that's much more responsive to human-scale interactivity: What's happening today that may influence what happens tomorrow? A lot of iteration needs to occur on a continual basis for the system to get smart, for the machine to learn — explore the data, visualize it, build a model, ask a question, an answer comes back, bring in other data, and repeat the process. The more real-time and granular we can get, the more responsive, and more competitive, we can be.\", \"You must constantly try to disrupt yourself. The most successful companies embrace cannibalization at the core. [...]You need to innovate and be willing to threaten the core of your business in order to survive. Or you'll die!\", 'I often see teams that maniacally focus on their metrics around customer acquisition and retention. This usually works well for customer acquisition, but not so well for retention. Why? For many products, metrics often describe the customer acquisition goal in enough detail to provide sufficient management guidance. In contrast, the metrics for customer retention do not provide enough color to be a complete management tool. As a result, many young companies overemphasize retention metrics and do not spend enough time going deep enough on the actual user experience. This generally results in a frantic numbers chase that does not end in a great product.', \"Don't obsess over these sub metrics, but obsess over the key metrics that tie into your revenue growth. Everything can be measured, including engineering, PR, product and marketing. If you have your engineering team agree to measure the output of features quarter over quarter, you will get more features built. It's just a fact. You have to measure every functional area. Measure them all and have everyone agree to the same growth goals to support your revenue, and magical things will happen.\", 'If an Internet company could obsess about only one metric, it should be conversion. No other metric so holistically captures as many critical aspects of a web site – user design, usability, performance, convenience, ad effectiveness, net promoter score, customer satisfaction – all in a single measurement. Yet despite the remarkable power of this metric, it is alarming how few companies today truly understand conversion and how to optimize it. As such, it is time to pound the table again – conversion is by far the most powerful Internet metric of all.', 'Thought leaders, especially in the tech world, are focused on the possibilities in front of us and push everyone to get smarter, faster, and stronger. From world-class writers and researchers to data scientists that pioneer our methodological approaches, the analytics quotes from this group pretty much covers all the bases.', \"You don't need to learn what customers say they want; you need to learn how customers behave and what they need. In other words, focus on their problem, not their suggested solution.\", \"Data isn't useful without the product context. Conversely, having only product context is not very useful without objective metrics...\", 'Errors using inadequate data are much less than those using no data at all.', \"When you are dealing with a torrent of data, being able to construct different levels of aggregation is really important, because you want to make sure you've used your software intelligently with respect to that large amount of data, and bring to bear the contextual data you need to answer the question at the level of aggregation that you need to answer it.\", \"If statistics are boring, you've got the wrong numbers\", 'Data are just summaries of thousands of stories – tell a few of those stories to help make the data meaningful.', '[A data-first strategy] is the quest to implement systems (usually massive) to collect data of all shapes and manners before all else. [...]It is being hyper-conservative when it comes to creativity and experimentation because of quant-issues. It is represented by 90% of the data budget invested in Agencies and Consultants driving implementation and re-implementation and hyper-customization of the code. It is represented by the act of creating crazy data thresholds for any initiative to get off the ground. [...]  Data is important. I believe it can help drive your business strategy smartly. But, a data-first strategy, defined as above, is nuts. It will only slow down your progress and allow your competitors to crush you like a bug (even if you are a top player in your market today!).You can have data without information, but you cannot have information without data.', 'A screen full of analytics data looks like a secret code, and in a way it is. That data has a lot of information in it, and it\\'s impossible to make sense of it without the key. Put another way, data can give answers, but only if you ask the right questions.\"', 'The key is to let computers do what they are good at, which is trawling these massive data sets for something that is mathematically odd, and that makes it easier for humans to do what they are good at — explain those anomalies.', 'Data is a precious thing and will last longer than the systems themselves.', '\"One metric alone doesn\\'t tell you what\\'s happening with your site; as ever Analytics is about taking your data and outside influences (i.e. time of year) and building insights from all of it.', 'In a marketing analytics worldview, companies must have an accounting of and insight into all of their marketing programs in all of their channels, including web/browser, mobile apps, TV/video, social, paid media, field, print, outdoor and others. If your organization is still stuck in the web analytics mindset, it is time to reinvent your analytics practice, leveraging all of the available marketing analytics tools to make faster and better decisions and drive your business.', 'Without big data, you are blind and deaf and in the middle of a freeway', 'In God we trust, all others bring data', 'No great marketing decisions have ever been made on qualitative data', 'Torture the data, and it will confess to anything', 'With data collection, ‘the sooner the better’ is always the best answer', 'Big data isn’t about bits, it’s about talent', 'Without a systematic way to start and keep data clean, bad data will happen', 'You can have data without information, but you cannot have information without data', 'If we have data, let’s look at data. If all we have are opinions, let’s go with mine', 'Above all else, show the data', 'Big data is at the foundation of all of the megatrends that are happening today, from social to mobile to the cloud to gaming', 'Where there is data smoke, there is business fire', 'Machine intelligence is the last invention that humanity will ever need to make', 'In the long term, artificial intelligence and automation are going to be taking over so much of what gives humans a feeling of purpose', 'We are entering a new world. The technologies of machine learning, speech recognition, and natural language understanding are reaching a nexus of capability. The end result is that we’ll soon have artificially intelligent assistants to help us in every aspect of our lives', 'Artificial intelligence is growing up fast, as are robots whose facial expressions can elicit empathy and make your mirror neurons quiver', 'I am telling you, the world’s first trillionaires are going to come from somebody who masters AI and all its derivatives,and applies it in ways we never thought of', 'Predicting the future isn’t magic, it’s artificial intelligence', 'Data is the new science. Big Data holds the answers', 'In a few years artificial intelligence virtual assistants will be as common as the smart phone', 'Artificial intelligence is here and being rapidly commercialized, with new applications being created not just for manufacturing but also for energy, healthcare, and oil and gas. This will change how we all do business', 'Data are becoming the new raw material of business', 'I visualize a time when we will be to robots what dogs are to humans, and I’m rooting for the machines', 'The pace of progress in artificial intelligence (I’m not referring to narrow AI) is incredibly fast. Unless you have direct exposure to groups like Deepmind, you have no idea how fast—it is growing at a pace close to exponential. The risk of something seriously dangerous happening is in the five-year timeframe. 10 years at most', 'The upheavals [of artificial intelligence] can escalate quickly and become scarier and even cataclysmic. Imagine how a medical robot, originally programmed to rid cancer, could conclude that the best way to obliterate cancer is to exterminate humans who are genetically prone to the disease', 'The key to artificial intelligence has always been the representation', 'It’s going to be interesting to see how society deals with artificial intelligence, but it will definitely be cool', 'Artificial intelligence is growing up fast, as are robots whose facial expressions can elicit empathy and make your mirror neurons quiver', 'A year spent in artificial intelligence is enough to make one believe in God', 'There is no reason and no way that a human mind can keep up with an artificial intelligence machine by 2035', 'Is artificial intelligence less than our intelligence?', 'By far, the greatest danger of Artificial Intelligence is that people conclude too early that they understand it', 'The sad thing about artificial intelligence is that it lacks artifice and therefore intelligence', 'Forget artificial intelligence – in the brave new world of big data, it’s artificial idiocy we should be looking out for', 'Before we work on artificial intelligence why don’t we do something about natural stupidity?']\n"
          ]
        }
      ]
    },
    {
      "cell_type": "code",
      "source": [
        "close_match = difflib.get_close_matches(quote, quote_all)\n",
        "print(close_match)"
      ],
      "metadata": {
        "id": "ow5D6ToqgOR3",
        "colab": {
          "base_uri": "https://localhost:8080/"
        },
        "outputId": "c0ee7316-cb6f-4b57-de4e-def64d98b60f"
      },
      "execution_count": 416,
      "outputs": [
        {
          "output_type": "stream",
          "name": "stdout",
          "text": [
            "[\"Data analysts who don't organize their transformation pipelines often end up not being able to repeat their analyses, so the advice I would give to myself is the same advice often given to traditional scientists: make your experiments repeatable!\"]\n"
          ]
        }
      ]
    },
    {
      "cell_type": "code",
      "source": [
        "close = close_match[0]"
      ],
      "metadata": {
        "id": "6NhmaYeCzPnX"
      },
      "execution_count": 417,
      "outputs": []
    },
    {
      "cell_type": "code",
      "source": [
        "id_of_quote = df[df.quote == close]['id'].values[0]\n",
        "print(id_of_quote)"
      ],
      "metadata": {
        "id": "d086oMf2iF5S",
        "colab": {
          "base_uri": "https://localhost:8080/"
        },
        "outputId": "fd658b62-d130-43a4-d276-d9450b86a71a"
      },
      "execution_count": 418,
      "outputs": [
        {
          "output_type": "stream",
          "name": "stdout",
          "text": [
            "32\n"
          ]
        }
      ]
    },
    {
      "cell_type": "code",
      "source": [
        "similarity_score = list(enumerate(similar[id_of_quote]))\n",
        "print(similarity_score)"
      ],
      "metadata": {
        "id": "s5uY5ubHhlEi",
        "colab": {
          "base_uri": "https://localhost:8080/"
        },
        "outputId": "be7cef4d-cd20-4987-bcd2-cfbade886fd3"
      },
      "execution_count": 419,
      "outputs": [
        {
          "output_type": "stream",
          "name": "stdout",
          "text": [
            "[(0, 0.08133406358475433), (1, 0.11959319649935159), (2, 0.175088763371139), (3, 0.11827030650652971), (4, 0.09651881511356894), (5, 0.08326062717257457), (6, 0.07327073132155172), (7, 0.09304905618915439), (8, 0.1307190705403647), (9, 0.11125168917326428), (10, 0.08176483459004591), (11, 0.061634864127629765), (12, 0.07538609122044979), (13, 0.04994644691997388), (14, 0.10147636115529617), (15, 0.0866222088771468), (16, 0.06089573870758331), (17, 0.06396529630657043), (18, 0.06274527037619929), (19, 0.14681915598855327), (20, 0.13596426087856475), (21, 0.05991187440302776), (22, 0.08551543416901553), (23, 0.11351731793237987), (24, 0.08338547397466992), (25, 0.08644124398527057), (26, 0.03682596100367181), (27, 0.14458263331506482), (28, 0.07809288368646568), (29, 0.13800141016096046), (30, 0.07927472360715881), (31, 0.05137501079729454), (32, 0.9999999999999998), (33, 0.09891643449220477), (34, 0.034770442269758006), (35, 0.17027825777491506), (36, 0.0), (37, 0.0), (38, 0.0), (39, 0.09621099208353469), (40, 0.0), (41, 0.03462899478553339), (42, 0.0), (43, 0.0), (44, 0.07105238381256539), (45, 0.0), (46, 0.07220278444401837), (47, 0.0), (48, 0.0), (49, 0.0), (50, 0.11670793487827083), (51, 0.031572678033627975), (52, 0.0), (53, 0.07189367110302144), (54, 0.0), (55, 0.0), (56, 0.0), (57, 0.048160339419977945), (58, 0.0), (59, 0.0), (60, 0.0), (61, 0.04202287242331799), (62, 0.0), (63, 0.07441819287814562), (64, 0.0), (65, 0.0), (66, 0.0), (67, 0.0), (68, 0.0), (69, 0.0), (70, 0.0), (71, 0.03985967512519816), (72, 0.0), (73, 0.07397167101104114), (74, 0.0478601285177164), (75, 0.055890870949026256), (76, 0.03431863531962692), (77, 0.07448517021053902), (78, 0.07950692945233351), (79, 0.03443859079058387), (80, 0.0), (81, 0.0), (82, 0.0), (83, 0.0), (84, 0.0), (85, 0.05488930011180998), (86, 0.016823840867731553), (87, 0.038179903742115495), (88, 0.01302790301879536), (89, 0.0387575915444642), (90, 0.0), (91, 0.023910417624746397), (92, 0.12960967468446963), (93, 0.0), (94, 0.013993783106929975), (95, 0.08906863402370085), (96, 0.0), (97, 0.0), (98, 0.0), (99, 0.11641225399369312), (100, 0.0), (101, 0.1124937925798643), (102, 0.033298036846774466), (103, 0.034888514784475126), (104, 0.0), (105, 0.0), (106, 0.037335433382003236), (107, 0.0), (108, 0.020668694761407088), (109, 0.0), (110, 0.047445700824176665), (111, 0.0), (112, 0.0), (113, 0.01221603221248112), (114, 0.0), (115, 0.01508036016290175), (116, 0.04589744047722723), (117, 0.06192502271303105), (118, 0.0), (119, 0.0816078728457685), (120, 0.08060597425351013), (121, 0.13827511677255244), (122, 0.016061430114017335), (123, 0.027883459329426367), (124, 0.0671109738823238), (125, 0.022255214582957445), (126, 0.11114399306822319), (127, 0.10136771433698591), (128, 0.09679321375209447), (129, 0.10468854971759867), (130, 0.08624010430933271), (131, 0.12935981887436257), (132, 0.09786405011621468), (133, 0.11913882618139043), (134, 0.10360331756431078), (135, 0.15350053575758707), (136, 0.09427787233242363), (137, 0.11439284832302349), (138, 0.07220278444401837), (139, 0.0), (140, 0.0), (141, 0.048160339419977945), (142, 0.05705929694850116), (143, 0.0), (144, 0.12149564314565076), (145, 0.0), (146, 0.0), (147, 0.02876180429363959), (148, 0.0), (149, 0.0), (150, 0.0), (151, 0.0), (152, 0.0), (153, 0.048160339419977945), (154, 0.06360131752649648), (155, 0.0), (156, 0.0), (157, 0.03985967512519816), (158, 0.0), (159, 0.054041006486298324), (160, 0.0)]\n"
          ]
        }
      ]
    },
    {
      "cell_type": "code",
      "source": [
        "len(similarity_score)"
      ],
      "metadata": {
        "id": "x5L-dEV-icb1",
        "colab": {
          "base_uri": "https://localhost:8080/"
        },
        "outputId": "e457f134-64f2-46e3-d71a-562536b4d3f7"
      },
      "execution_count": 420,
      "outputs": [
        {
          "output_type": "execute_result",
          "data": {
            "text/plain": [
              "161"
            ]
          },
          "metadata": {},
          "execution_count": 420
        }
      ]
    },
    {
      "cell_type": "code",
      "source": [
        "sorted_sim_quote = sorted(similarity_score, key = lambda x:x[1], reverse = True)\n",
        "print(sorted_sim_quote)"
      ],
      "metadata": {
        "id": "ukMzhl2HigKf",
        "colab": {
          "base_uri": "https://localhost:8080/"
        },
        "outputId": "5d64a579-3fc3-47a9-a744-106c8926d328"
      },
      "execution_count": 421,
      "outputs": [
        {
          "output_type": "stream",
          "name": "stdout",
          "text": [
            "[(32, 0.9999999999999998), (2, 0.175088763371139), (35, 0.17027825777491506), (135, 0.15350053575758707), (19, 0.14681915598855327), (27, 0.14458263331506482), (121, 0.13827511677255244), (29, 0.13800141016096046), (20, 0.13596426087856475), (8, 0.1307190705403647), (92, 0.12960967468446963), (131, 0.12935981887436257), (144, 0.12149564314565076), (1, 0.11959319649935159), (133, 0.11913882618139043), (3, 0.11827030650652971), (50, 0.11670793487827083), (99, 0.11641225399369312), (137, 0.11439284832302349), (23, 0.11351731793237987), (101, 0.1124937925798643), (9, 0.11125168917326428), (126, 0.11114399306822319), (129, 0.10468854971759867), (134, 0.10360331756431078), (14, 0.10147636115529617), (127, 0.10136771433698591), (33, 0.09891643449220477), (132, 0.09786405011621468), (128, 0.09679321375209447), (4, 0.09651881511356894), (39, 0.09621099208353469), (136, 0.09427787233242363), (7, 0.09304905618915439), (95, 0.08906863402370085), (15, 0.0866222088771468), (25, 0.08644124398527057), (130, 0.08624010430933271), (22, 0.08551543416901553), (24, 0.08338547397466992), (5, 0.08326062717257457), (10, 0.08176483459004591), (119, 0.0816078728457685), (0, 0.08133406358475433), (120, 0.08060597425351013), (78, 0.07950692945233351), (30, 0.07927472360715881), (28, 0.07809288368646568), (12, 0.07538609122044979), (77, 0.07448517021053902), (63, 0.07441819287814562), (73, 0.07397167101104114), (6, 0.07327073132155172), (46, 0.07220278444401837), (138, 0.07220278444401837), (53, 0.07189367110302144), (44, 0.07105238381256539), (124, 0.0671109738823238), (17, 0.06396529630657043), (154, 0.06360131752649648), (18, 0.06274527037619929), (117, 0.06192502271303105), (11, 0.061634864127629765), (16, 0.06089573870758331), (21, 0.05991187440302776), (142, 0.05705929694850116), (75, 0.055890870949026256), (85, 0.05488930011180998), (159, 0.054041006486298324), (31, 0.05137501079729454), (13, 0.04994644691997388), (57, 0.048160339419977945), (141, 0.048160339419977945), (153, 0.048160339419977945), (74, 0.0478601285177164), (110, 0.047445700824176665), (116, 0.04589744047722723), (61, 0.04202287242331799), (71, 0.03985967512519816), (157, 0.03985967512519816), (89, 0.0387575915444642), (87, 0.038179903742115495), (106, 0.037335433382003236), (26, 0.03682596100367181), (103, 0.034888514784475126), (34, 0.034770442269758006), (41, 0.03462899478553339), (79, 0.03443859079058387), (76, 0.03431863531962692), (102, 0.033298036846774466), (51, 0.031572678033627975), (147, 0.02876180429363959), (123, 0.027883459329426367), (91, 0.023910417624746397), (125, 0.022255214582957445), (108, 0.020668694761407088), (86, 0.016823840867731553), (122, 0.016061430114017335), (115, 0.01508036016290175), (94, 0.013993783106929975), (88, 0.01302790301879536), (113, 0.01221603221248112), (36, 0.0), (37, 0.0), (38, 0.0), (40, 0.0), (42, 0.0), (43, 0.0), (45, 0.0), (47, 0.0), (48, 0.0), (49, 0.0), (52, 0.0), (54, 0.0), (55, 0.0), (56, 0.0), (58, 0.0), (59, 0.0), (60, 0.0), (62, 0.0), (64, 0.0), (65, 0.0), (66, 0.0), (67, 0.0), (68, 0.0), (69, 0.0), (70, 0.0), (72, 0.0), (80, 0.0), (81, 0.0), (82, 0.0), (83, 0.0), (84, 0.0), (90, 0.0), (93, 0.0), (96, 0.0), (97, 0.0), (98, 0.0), (100, 0.0), (104, 0.0), (105, 0.0), (107, 0.0), (109, 0.0), (111, 0.0), (112, 0.0), (114, 0.0), (118, 0.0), (139, 0.0), (140, 0.0), (143, 0.0), (145, 0.0), (146, 0.0), (148, 0.0), (149, 0.0), (150, 0.0), (151, 0.0), (152, 0.0), (155, 0.0), (156, 0.0), (158, 0.0), (160, 0.0)]\n"
          ]
        }
      ]
    },
    {
      "cell_type": "code",
      "source": [
        "id = quote[0]\n",
        "print(id)"
      ],
      "metadata": {
        "colab": {
          "base_uri": "https://localhost:8080/"
        },
        "id": "Znm2tDXS0WA6",
        "outputId": "7e2568e0-ef3d-44b2-f684-673cc6145035"
      },
      "execution_count": 422,
      "outputs": [
        {
          "output_type": "stream",
          "name": "stdout",
          "text": [
            "d\n"
          ]
        }
      ]
    },
    {
      "cell_type": "code",
      "source": [
        "print('Suggested quotes are:')\n",
        "i = 1\n",
        "for quote in sorted_sim_quote:\n",
        "  try:\n",
        "    if i == 1:\n",
        "      i = i+1\n",
        "      continue\n",
        "    id = quote[0]\n",
        "    quote_from_id = df[df.id==id]['quote'].values[0]\n",
        "    print(i-1, ') ', quote_from_id, sep = '')\n",
        "    i = i+1\n",
        "    if(i==7):\n",
        "      break\n",
        "  except:\n",
        "    pass\n",
        "\n",
        "# for quote in range(0,6):\n",
        "#   try:\n",
        "#     id = sorted_sim_quote[quote]\n",
        "#     quote_from_id = df[df.id==id[0]]['quote'].values[0]\n",
        "#     # if(i < 5):\n",
        "#     print(quote+1, ') ', quote_from_id, sep = '')\n",
        "#   except:\n",
        "#     print(id)\n",
        "#     pass\n",
        "  "
      ],
      "metadata": {
        "id": "PCr23EYXi1Di",
        "colab": {
          "base_uri": "https://localhost:8080/"
        },
        "outputId": "5a2c23d9-7678-4f94-ecdc-9f580a0da9a2"
      },
      "execution_count": 423,
      "outputs": [
        {
          "output_type": "stream",
          "name": "stdout",
          "text": [
            "Suggested quotes are:\n",
            "1) Possessed' is probably the right word. I often tell people, I don't want to necessarily be a data scientist. You just kind of are a data scientist. You just can't help but look at that data set and go, I feel like I need to look deeper. I feel like that's not the right fit.'\n",
            "2) The difference between a great [data scientist] and a good one is like the difference between lightning and a lightning bug.\n",
            "3) Data is a precious thing and will last longer than the systems themselves.\n",
            "4) Data science's learning curve is formidable. To a great degree, you will need a degree, or something substantially like it, to prove you're committed to this career….\n",
            "5) What makes a good scientist great is creativity with data, skepticism and good communication skills. Getting all of that together in the same person is difficult―because traditionally, different people follow different paths in their careers―some are more technical, others are more creative and communicative. A data scientist has to have both.\n"
          ]
        }
      ]
    },
    {
      "cell_type": "code",
      "source": [
        "import pickle\n",
        "pickle.dump(similar, open('model.pkl', 'wb'))"
      ],
      "metadata": {
        "id": "nx2hvfG7zfIo"
      },
      "execution_count": 424,
      "outputs": []
    },
    {
      "cell_type": "code",
      "source": [],
      "metadata": {
        "id": "3pyVLys1Jsfl"
      },
      "execution_count": 405,
      "outputs": []
    }
  ]
}